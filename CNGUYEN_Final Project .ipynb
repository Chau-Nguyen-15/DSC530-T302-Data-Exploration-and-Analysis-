{
 "cells": [
  {
   "cell_type": "code",
   "execution_count": 294,
   "metadata": {},
   "outputs": [],
   "source": [
    "import json\n",
    "import csv\n",
    "import pandas as pd\n",
    "from pandas import DataFrame\n",
    "import numpy as np\n",
    "\n",
    "import thinkplot\n",
    "import matplotlib.pyplot as plt\n",
    "import timeseries \n",
    "import statsmodels.formula.api as smf\n",
    "\n",
    "import thinkstats2\n"
   ]
  },
  {
   "cell_type": "code",
   "execution_count": 295,
   "metadata": {},
   "outputs": [
    {
     "name": "stdout",
     "output_type": "stream",
     "text": [
      "    Country_Code  renewConsumptionPercent  Year\n",
      "104          EAS                26.196254  1990\n",
      "105          EAS                25.765811  1991\n",
      "106          EAS                25.328606  1992\n",
      "107          EAS                24.585475  1993\n",
      "108          EAS                23.861375  1994\n",
      "109          EAS                22.903000  1995\n",
      "110          EAS                23.012842  1996\n",
      "111          EAS                22.805913  1997\n",
      "112          EAS                22.949012  1998\n",
      "113          EAS                22.731108  1999\n",
      "114          EAS                22.263042  2000\n",
      "115          EAS                21.553554  2001\n",
      "116          EAS                20.916598  2002\n",
      "117          EAS                19.590337  2003\n",
      "118          EAS                17.711045  2004\n",
      "119          EAS                16.597160  2005\n",
      "120          EAS                16.075711  2006\n",
      "121          EAS                15.039892  2007\n",
      "122          EAS                14.751644  2008\n",
      "123          EAS                14.454285  2009\n",
      "124          EAS                13.729447  2010\n",
      "125          EAS                13.073702  2011\n",
      "126          EAS                13.375940  2012\n",
      "127          EAS                13.343135  2013\n",
      "128          EAS                13.753442  2014\n",
      "129          EAS                13.857603  2015\n"
     ]
    }
   ],
   "source": [
    "#Real Data Renewable Energy Dataset\n",
    "df = pd.read_json('Renewable_energyconsmp.json')\n",
    "#rename column for index\n",
    "df.rename(columns = {'Country Code': 'Country_Code','Value': 'renewConsumptionPercent'}, inplace = True)\n",
    "del df['Country Name']\n",
    "Renew = df\n",
    "#subset dataset with country code NAC \n",
    "Renew_EAS = Renew[Renew[\"Country_Code\"] == 'EAS']\n",
    "Renew_NAC = Renew[Renew[\"Country_Code\"] == 'NAC']\n",
    "\n",
    "Renew_NAC.columns\n",
    "print(Renew_EAS)\n"
   ]
  },
  {
   "cell_type": "code",
   "execution_count": 296,
   "metadata": {},
   "outputs": [
    {
     "data": {
      "text/html": [
       "<div>\n",
       "<style scoped>\n",
       "    .dataframe tbody tr th:only-of-type {\n",
       "        vertical-align: middle;\n",
       "    }\n",
       "\n",
       "    .dataframe tbody tr th {\n",
       "        vertical-align: top;\n",
       "    }\n",
       "\n",
       "    .dataframe thead th {\n",
       "        text-align: right;\n",
       "    }\n",
       "</style>\n",
       "<table border=\"1\" class=\"dataframe\">\n",
       "  <thead>\n",
       "    <tr style=\"text-align: right;\">\n",
       "      <th></th>\n",
       "      <th>Country_Code</th>\n",
       "      <th>renewConsumptionPercent</th>\n",
       "      <th>Year</th>\n",
       "    </tr>\n",
       "  </thead>\n",
       "  <tbody>\n",
       "    <tr>\n",
       "      <th>1716</th>\n",
       "      <td>BEN</td>\n",
       "      <td>93.703241</td>\n",
       "      <td>1990</td>\n",
       "    </tr>\n",
       "    <tr>\n",
       "      <th>1717</th>\n",
       "      <td>BEN</td>\n",
       "      <td>94.964848</td>\n",
       "      <td>1991</td>\n",
       "    </tr>\n",
       "    <tr>\n",
       "      <th>1718</th>\n",
       "      <td>BEN</td>\n",
       "      <td>94.851835</td>\n",
       "      <td>1992</td>\n",
       "    </tr>\n",
       "    <tr>\n",
       "      <th>1719</th>\n",
       "      <td>BEN</td>\n",
       "      <td>94.988801</td>\n",
       "      <td>1993</td>\n",
       "    </tr>\n",
       "    <tr>\n",
       "      <th>1720</th>\n",
       "      <td>BEN</td>\n",
       "      <td>94.975035</td>\n",
       "      <td>1994</td>\n",
       "    </tr>\n",
       "    <tr>\n",
       "      <th>...</th>\n",
       "      <td>...</td>\n",
       "      <td>...</td>\n",
       "      <td>...</td>\n",
       "    </tr>\n",
       "    <tr>\n",
       "      <th>6553</th>\n",
       "      <td>ZMB</td>\n",
       "      <td>92.961409</td>\n",
       "      <td>2007</td>\n",
       "    </tr>\n",
       "    <tr>\n",
       "      <th>6554</th>\n",
       "      <td>ZMB</td>\n",
       "      <td>92.182579</td>\n",
       "      <td>2008</td>\n",
       "    </tr>\n",
       "    <tr>\n",
       "      <th>6555</th>\n",
       "      <td>ZMB</td>\n",
       "      <td>92.086560</td>\n",
       "      <td>2009</td>\n",
       "    </tr>\n",
       "    <tr>\n",
       "      <th>6556</th>\n",
       "      <td>ZMB</td>\n",
       "      <td>92.104297</td>\n",
       "      <td>2010</td>\n",
       "    </tr>\n",
       "    <tr>\n",
       "      <th>6557</th>\n",
       "      <td>ZMB</td>\n",
       "      <td>90.899608</td>\n",
       "      <td>2011</td>\n",
       "    </tr>\n",
       "  </tbody>\n",
       "</table>\n",
       "<p>290 rows × 3 columns</p>\n",
       "</div>"
      ],
      "text/plain": [
       "     Country_Code  renewConsumptionPercent  Year\n",
       "1716          BEN                93.703241  1990\n",
       "1717          BEN                94.964848  1991\n",
       "1718          BEN                94.851835  1992\n",
       "1719          BEN                94.988801  1993\n",
       "1720          BEN                94.975035  1994\n",
       "...           ...                      ...   ...\n",
       "6553          ZMB                92.961409  2007\n",
       "6554          ZMB                92.182579  2008\n",
       "6555          ZMB                92.086560  2009\n",
       "6556          ZMB                92.104297  2010\n",
       "6557          ZMB                90.899608  2011\n",
       "\n",
       "[290 rows x 3 columns]"
      ]
     },
     "execution_count": 296,
     "metadata": {},
     "output_type": "execute_result"
    }
   ],
   "source": [
    "Renew.renewConsumptionPercent.mean()\n",
    "a = Renew[Renew['renewConsumptionPercent']>90]\n",
    "a"
   ]
  },
  {
   "cell_type": "code",
   "execution_count": null,
   "metadata": {},
   "outputs": [],
   "source": [
    "\n"
   ]
  },
  {
   "cell_type": "code",
   "execution_count": 297,
   "metadata": {},
   "outputs": [
    {
     "data": {
      "text/html": [
       "<div>\n",
       "<style scoped>\n",
       "    .dataframe tbody tr th:only-of-type {\n",
       "        vertical-align: middle;\n",
       "    }\n",
       "\n",
       "    .dataframe tbody tr th {\n",
       "        vertical-align: top;\n",
       "    }\n",
       "\n",
       "    .dataframe thead th {\n",
       "        text-align: right;\n",
       "    }\n",
       "</style>\n",
       "<table border=\"1\" class=\"dataframe\">\n",
       "  <thead>\n",
       "    <tr style=\"text-align: right;\">\n",
       "      <th></th>\n",
       "      <th>Country_Code</th>\n",
       "      <th>fossilConsumptionPercent</th>\n",
       "      <th>Year</th>\n",
       "    </tr>\n",
       "  </thead>\n",
       "  <tbody>\n",
       "    <tr>\n",
       "      <th>1592</th>\n",
       "      <td>NAC</td>\n",
       "      <td>85.162737</td>\n",
       "      <td>1990</td>\n",
       "    </tr>\n",
       "    <tr>\n",
       "      <th>1593</th>\n",
       "      <td>NAC</td>\n",
       "      <td>84.375408</td>\n",
       "      <td>1991</td>\n",
       "    </tr>\n",
       "    <tr>\n",
       "      <th>1594</th>\n",
       "      <td>NAC</td>\n",
       "      <td>84.376718</td>\n",
       "      <td>1992</td>\n",
       "    </tr>\n",
       "    <tr>\n",
       "      <th>1595</th>\n",
       "      <td>NAC</td>\n",
       "      <td>84.762586</td>\n",
       "      <td>1993</td>\n",
       "    </tr>\n",
       "    <tr>\n",
       "      <th>1596</th>\n",
       "      <td>NAC</td>\n",
       "      <td>84.468471</td>\n",
       "      <td>1994</td>\n",
       "    </tr>\n",
       "    <tr>\n",
       "      <th>1597</th>\n",
       "      <td>NAC</td>\n",
       "      <td>84.153516</td>\n",
       "      <td>1995</td>\n",
       "    </tr>\n",
       "    <tr>\n",
       "      <th>1598</th>\n",
       "      <td>NAC</td>\n",
       "      <td>84.265579</td>\n",
       "      <td>1996</td>\n",
       "    </tr>\n",
       "    <tr>\n",
       "      <th>1599</th>\n",
       "      <td>NAC</td>\n",
       "      <td>85.267755</td>\n",
       "      <td>1997</td>\n",
       "    </tr>\n",
       "    <tr>\n",
       "      <th>1600</th>\n",
       "      <td>NAC</td>\n",
       "      <td>85.064297</td>\n",
       "      <td>1998</td>\n",
       "    </tr>\n",
       "    <tr>\n",
       "      <th>1601</th>\n",
       "      <td>NAC</td>\n",
       "      <td>84.766855</td>\n",
       "      <td>1999</td>\n",
       "    </tr>\n",
       "    <tr>\n",
       "      <th>1602</th>\n",
       "      <td>NAC</td>\n",
       "      <td>84.899431</td>\n",
       "      <td>2000</td>\n",
       "    </tr>\n",
       "    <tr>\n",
       "      <th>1603</th>\n",
       "      <td>NAC</td>\n",
       "      <td>85.319265</td>\n",
       "      <td>2001</td>\n",
       "    </tr>\n",
       "    <tr>\n",
       "      <th>1604</th>\n",
       "      <td>NAC</td>\n",
       "      <td>85.140400</td>\n",
       "      <td>2002</td>\n",
       "    </tr>\n",
       "    <tr>\n",
       "      <th>1605</th>\n",
       "      <td>NAC</td>\n",
       "      <td>85.261158</td>\n",
       "      <td>2003</td>\n",
       "    </tr>\n",
       "    <tr>\n",
       "      <th>1606</th>\n",
       "      <td>NAC</td>\n",
       "      <td>84.979494</td>\n",
       "      <td>2004</td>\n",
       "    </tr>\n",
       "    <tr>\n",
       "      <th>1607</th>\n",
       "      <td>NAC</td>\n",
       "      <td>84.883092</td>\n",
       "      <td>2005</td>\n",
       "    </tr>\n",
       "    <tr>\n",
       "      <th>1608</th>\n",
       "      <td>NAC</td>\n",
       "      <td>84.475882</td>\n",
       "      <td>2006</td>\n",
       "    </tr>\n",
       "    <tr>\n",
       "      <th>1609</th>\n",
       "      <td>NAC</td>\n",
       "      <td>84.518352</td>\n",
       "      <td>2007</td>\n",
       "    </tr>\n",
       "    <tr>\n",
       "      <th>1610</th>\n",
       "      <td>NAC</td>\n",
       "      <td>83.903874</td>\n",
       "      <td>2008</td>\n",
       "    </tr>\n",
       "    <tr>\n",
       "      <th>1611</th>\n",
       "      <td>NAC</td>\n",
       "      <td>83.169704</td>\n",
       "      <td>2009</td>\n",
       "    </tr>\n",
       "    <tr>\n",
       "      <th>1612</th>\n",
       "      <td>NAC</td>\n",
       "      <td>83.214582</td>\n",
       "      <td>2010</td>\n",
       "    </tr>\n",
       "    <tr>\n",
       "      <th>1613</th>\n",
       "      <td>NAC</td>\n",
       "      <td>82.716518</td>\n",
       "      <td>2011</td>\n",
       "    </tr>\n",
       "    <tr>\n",
       "      <th>1614</th>\n",
       "      <td>NAC</td>\n",
       "      <td>82.456353</td>\n",
       "      <td>2012</td>\n",
       "    </tr>\n",
       "    <tr>\n",
       "      <th>1615</th>\n",
       "      <td>NAC</td>\n",
       "      <td>81.859051</td>\n",
       "      <td>2013</td>\n",
       "    </tr>\n",
       "    <tr>\n",
       "      <th>1616</th>\n",
       "      <td>NAC</td>\n",
       "      <td>81.865176</td>\n",
       "      <td>2014</td>\n",
       "    </tr>\n",
       "  </tbody>\n",
       "</table>\n",
       "</div>"
      ],
      "text/plain": [
       "     Country_Code  fossilConsumptionPercent  Year\n",
       "1592          NAC                 85.162737  1990\n",
       "1593          NAC                 84.375408  1991\n",
       "1594          NAC                 84.376718  1992\n",
       "1595          NAC                 84.762586  1993\n",
       "1596          NAC                 84.468471  1994\n",
       "1597          NAC                 84.153516  1995\n",
       "1598          NAC                 84.265579  1996\n",
       "1599          NAC                 85.267755  1997\n",
       "1600          NAC                 85.064297  1998\n",
       "1601          NAC                 84.766855  1999\n",
       "1602          NAC                 84.899431  2000\n",
       "1603          NAC                 85.319265  2001\n",
       "1604          NAC                 85.140400  2002\n",
       "1605          NAC                 85.261158  2003\n",
       "1606          NAC                 84.979494  2004\n",
       "1607          NAC                 84.883092  2005\n",
       "1608          NAC                 84.475882  2006\n",
       "1609          NAC                 84.518352  2007\n",
       "1610          NAC                 83.903874  2008\n",
       "1611          NAC                 83.169704  2009\n",
       "1612          NAC                 83.214582  2010\n",
       "1613          NAC                 82.716518  2011\n",
       "1614          NAC                 82.456353  2012\n",
       "1615          NAC                 81.859051  2013\n",
       "1616          NAC                 81.865176  2014"
      ]
     },
     "execution_count": 297,
     "metadata": {},
     "output_type": "execute_result"
    }
   ],
   "source": [
    "#fossil_fuel.json\n",
    "\n",
    "df = pd.read_json('fossil_fuel.json')\n",
    "df\n",
    "df.rename(columns={'Country Code': 'Country_Code'}, inplace = True)\n",
    "del df['Country Name']\n",
    "Fossil_NAC = df[df['Country_Code']=='NAC']\n",
    "Fossil_NAC = Fossil_NAC[Fossil_NAC['Year']>=1990]\n",
    "Fossil_NAC.rename(columns = {'Value': 'fossilConsumptionPercent'}, inplace = True)\n",
    "#Fossil_NAC = Fossil_NAC.reindex(columns=['Year','Country_Code','%_fossilConsumptionNAC'])\n",
    "Fossil_NAC\n"
   ]
  },
  {
   "cell_type": "code",
   "execution_count": 298,
   "metadata": {},
   "outputs": [
    {
     "name": "stderr",
     "output_type": "stream",
     "text": [
      "/Users/chaunguyen/opt/anaconda3/lib/python3.8/site-packages/pandas/core/frame.py:4296: SettingWithCopyWarning: \n",
      "A value is trying to be set on a copy of a slice from a DataFrame\n",
      "\n",
      "See the caveats in the documentation: https://pandas.pydata.org/pandas-docs/stable/user_guide/indexing.html#returning-a-view-versus-a-copy\n",
      "  return super().rename(\n"
     ]
    },
    {
     "data": {
      "text/plain": [
       "Index(['Country_Code', 'GDPperUnitEnery', 'Year'], dtype='object')"
      ]
     },
     "execution_count": 298,
     "metadata": {},
     "output_type": "execute_result"
    }
   ],
   "source": [
    "#gdpperunit.json\n",
    "\n",
    "df = pd.read_json('gdpperunit.json')\n",
    "df\n",
    "df.rename(columns={'Country Code': 'Country_Code'}, inplace = True)\n",
    "del df['Country Name']\n",
    "\n",
    "gdpperunit_NAC = df[df['Country_Code']=='NAC']\n",
    "gdpperunit_NAC.rename(columns = {'Value': 'GDPperUnitEnery'}, inplace = True)\n",
    "gdpperunit_NAC.columns"
   ]
  },
  {
   "cell_type": "code",
   "execution_count": 299,
   "metadata": {},
   "outputs": [
    {
     "name": "stderr",
     "output_type": "stream",
     "text": [
      "/Users/chaunguyen/opt/anaconda3/lib/python3.8/site-packages/pandas/core/frame.py:4296: SettingWithCopyWarning: \n",
      "A value is trying to be set on a copy of a slice from a DataFrame\n",
      "\n",
      "See the caveats in the documentation: https://pandas.pydata.org/pandas-docs/stable/user_guide/indexing.html#returning-a-view-versus-a-copy\n",
      "  return super().rename(\n"
     ]
    },
    {
     "data": {
      "text/plain": [
       "Index(['Country_Code', 'kWhper_capita', 'Year'], dtype='object')"
      ]
     },
     "execution_count": 299,
     "metadata": {},
     "output_type": "execute_result"
    }
   ],
   "source": [
    "#electricPOWconsmp.json\n",
    "\n",
    "df = pd.read_json('electricPOWconsmp.json')\n",
    "df\n",
    "df.rename(columns={'Country Code': 'Country_Code'}, inplace = True)\n",
    "del df['Country Name']\n",
    "\n",
    "electricPOWconsmp_NAC = df[df['Country_Code']=='NAC']\n",
    "electricPOWconsmp_NAC.rename(columns={'Value': 'kWhper_capita'}, inplace = True)\n",
    "electricPOWconsmp_NAC.columns"
   ]
  },
  {
   "cell_type": "code",
   "execution_count": 300,
   "metadata": {},
   "outputs": [
    {
     "data": {
      "text/plain": [
       "<bound method NDFrame.head of Empty DataFrame\n",
       "Columns: [Country_Code, Country Name, Investment_cost, Year]\n",
       "Index: []>"
      ]
     },
     "execution_count": 300,
     "metadata": {},
     "output_type": "execute_result"
    }
   ],
   "source": [
    "# InvestmentinEnergy.json\n",
    "df = pd.read_json('InvestmentinEnergy.json')\n",
    "df.rename(columns={'Country Code': 'Country_Code','Value':'Investment_cost'}, inplace = True)\n",
    "InvestmentinEnergy_NAC = df[df['Country_Code']=='NAC']\n",
    "InvestmentinEnergy_NAC.head\n"
   ]
  },
  {
   "cell_type": "code",
   "execution_count": 301,
   "metadata": {},
   "outputs": [
    {
     "data": {
      "text/plain": [
       "pandas.core.frame.DataFrame"
      ]
     },
     "execution_count": 301,
     "metadata": {},
     "output_type": "execute_result"
    }
   ],
   "source": [
    "US_NGasPrice = pd.read_excel('US Natural Gas Price and Consumption.xlsx')\n",
    "US_NGasPrice.rename(columns={'Year ': 'Year'}, inplace = True)\n",
    "type(US_NGasPrice)"
   ]
  },
  {
   "cell_type": "code",
   "execution_count": 302,
   "metadata": {},
   "outputs": [
    {
     "data": {
      "text/plain": [
       "Index(['Country_Code', 'Year', 'renewConsumptionPercent', 'kWhper_capita',\n",
       "       'fossilConsumptionPercent', 'GDPperUnitEnery', 'CN_NaturalGasPrice',\n",
       "       'US_NaturalGasPrice', 'US_NGCons_millCubicFeet'],\n",
       "      dtype='object')"
      ]
     },
     "execution_count": 302,
     "metadata": {},
     "output_type": "execute_result"
    }
   ],
   "source": [
    "#Combine All dataset into one dataframe \n",
    "dfs = [df.set_index(['Country_Code', 'Year']) for df in [Renew_NAC, electricPOWconsmp_NAC, Fossil_NAC,gdpperunit_NAC]]\n",
    "dfs = pd.concat(dfs, axis=1).reset_index()\n",
    "FP_df = pd.DataFrame(dfs)\n",
    "FP_df = FP_df.merge(US_NGasPrice, on='Year', how='left')\n",
    "FP_df.dropna(inplace=True)\n",
    "FP_df.columns\n"
   ]
  },
  {
   "cell_type": "code",
   "execution_count": 303,
   "metadata": {
    "scrolled": true
   },
   "outputs": [
    {
     "name": "stdout",
     "output_type": "stream",
     "text": [
      "Varible Name :  renewConsumptionPercent\n",
      "Variable Stat: count    25.000000\n",
      "mean      7.627283\n",
      "std       1.379622\n",
      "min       6.068315\n",
      "25%       6.447523\n",
      "50%       7.192019\n",
      "75%       8.581554\n",
      "max      10.245501\n",
      "Name: renewConsumptionPercent, dtype: float64\n",
      "Varible Name :  kWhper_capita\n",
      "Variable Stat: count       25.000000\n",
      "mean     13338.147911\n",
      "std        511.472097\n",
      "min      12153.712502\n",
      "25%      13164.364523\n",
      "50%      13416.442110\n",
      "75%      13689.794761\n",
      "max      14020.759671\n",
      "Name: kWhper_capita, dtype: float64\n",
      "Varible Name :  fossilConsumptionPercent\n",
      "Variable Stat: count    25.000000\n",
      "mean     84.213050\n",
      "std       1.058396\n",
      "min      81.859051\n",
      "25%      83.903874\n",
      "50%      84.475882\n",
      "75%      84.979494\n",
      "max      85.319265\n",
      "Name: fossilConsumptionPercent, dtype: float64\n",
      "Varible Name :  GDPperUnitEnery\n",
      "Variable Stat: count    25.000000\n",
      "mean      5.865464\n",
      "std       0.839622\n",
      "min       4.714740\n",
      "25%       5.048175\n",
      "50%       5.802065\n",
      "75%       6.552100\n",
      "max       7.241132\n",
      "Name: GDPperUnitEnery, dtype: float64\n",
      "Varible Name :  CN_NaturalGasPrice\n",
      "Variable Stat: count    25.000000\n",
      "mean      3.179500\n",
      "std       2.057275\n",
      "min       0.888300\n",
      "25%       1.422000\n",
      "50%       2.926000\n",
      "75%       3.868000\n",
      "max       7.990000\n",
      "Name: CN_NaturalGasPrice, dtype: float64\n",
      "Varible Name :  US_NaturalGasPrice\n",
      "Variable Stat: count    25.000000\n",
      "mean      9.939125\n",
      "std       3.079238\n",
      "min       6.112500\n",
      "25%       6.965000\n",
      "50%       9.909167\n",
      "75%      12.570000\n",
      "max      15.760000\n",
      "Name: US_NaturalGasPrice, dtype: float64\n",
      "Varible Name :  US_NGCons_millCubicFeet\n",
      "Variable Stat: count    2.500000e+01\n",
      "mean     2.265354e+07\n",
      "std      1.801382e+06\n",
      "min      1.917356e+07\n",
      "25%      2.201443e+07\n",
      "50%      2.240515e+07\n",
      "75%      2.327701e+07\n",
      "max      2.659338e+07\n",
      "Name: US_NGCons_millCubicFeet, dtype: float64\n"
     ]
    }
   ],
   "source": [
    "#Understanding 5 Variables \n",
    "\n",
    "main_variables = FP_df.iloc[:,2:9]\n",
    "\n",
    "#Full Statiscal Summary\n",
    "for column in main_variables:\n",
    "    a = main_variables[column]\n",
    "    print('Varible Name : ', column)\n",
    "    print('Variable Stat:',a.describe())\n",
    "#main_variables.GDPperUnitEnery.describe()"
   ]
  },
  {
   "cell_type": "code",
   "execution_count": 304,
   "metadata": {},
   "outputs": [
    {
     "data": {
      "image/png": "[encoded data removed]",
      "text/plain": [
       "<Figure size 432x288 with 1 Axes>"
      ]
     },
     "metadata": {
      "needs_background": "light"
     },
     "output_type": "display_data"
    },
    {
     "data": {
      "image/png": "[encoded data removed]",
      "text/plain": [
       "<Figure size 576x432 with 1 Axes>"
      ]
     },
     "metadata": {
      "needs_background": "light"
     },
     "output_type": "display_data"
    },
    {
     "data": {
      "image/png": "[encoded data removed]",
      "text/plain": [
       "<Figure size 576x432 with 1 Axes>"
      ]
     },
     "metadata": {
      "needs_background": "light"
     },
     "output_type": "display_data"
    },
    {
     "data": {
      "image/png": "[encoded data removed]",
      "text/plain": [
       "<Figure size 576x432 with 1 Axes>"
      ]
     },
     "metadata": {
      "needs_background": "light"
     },
     "output_type": "display_data"
    },
    {
     "data": {
      "image/png": "[encoded data removed]",
      "text/plain": [
       "<Figure size 576x432 with 1 Axes>"
      ]
     },
     "metadata": {
      "needs_background": "light"
     },
     "output_type": "display_data"
    },
    {
     "data": {
      "image/png": "[encoded data removed]",
      "text/plain": [
       "<Figure size 576x432 with 1 Axes>"
      ]
     },
     "metadata": {
      "needs_background": "light"
     },
     "output_type": "display_data"
    },
    {
     "data": {
      "text/plain": [
       "<Figure size 576x432 with 0 Axes>"
      ]
     },
     "metadata": {},
     "output_type": "display_data"
    }
   ],
   "source": [
    "#Histogram for Each Variable\n",
    "\n",
    "#Percentage Renewable Consumption in NA\n",
    "hist1 = thinkstats2.Hist(FP_df.renewConsumptionPercent)\n",
    "thinkplot.Hist(hist1) \n",
    "thinkplot.Show(xlabel=\"Percentage Renewable Consumption in NAC\", ylabel='frequency')\n",
    "\n",
    "#kWhper_capita\n",
    "hist2 = thinkstats2.Hist(FP_df.kWhper_capita)\n",
    "thinkplot.Hist(hist1) \n",
    "thinkplot.Show(xlabel=\"Energy Consumption kWh per Capita in NAC\", ylabel='frequency')\n",
    "\n",
    "#%_fossilConsumption\n",
    "hist3 = thinkstats2.Hist(FP_df.fossilConsumptionPercent)\n",
    "thinkplot.Hist(hist3) \n",
    "thinkplot.Show(xlabel=\"US Gas Price from 1990-2014\", ylabel='frequency')\n",
    "\n",
    "\n",
    "#US Gas Price\n",
    "hist4 = thinkstats2.Hist(FP_df.US_NaturalGasPrice)\n",
    "thinkplot.Hist(hist4) \n",
    "thinkplot.Show(xlabel=\"US Gas Price from 1990-2014\", ylabel='frequency')\n",
    "\n",
    "#CN_NaturalGasPrice\n",
    "hist5 = thinkstats2.Hist(FP_df.CN_NaturalGasPrice)\n",
    "thinkplot.Hist(hist5) \n",
    "thinkplot.Show(xlabel=\"CN Gas Price from 1990-2014\", ylabel='frequency')\n",
    "\n",
    "#GDPperUnitEnery \n",
    "hist6 = thinkstats2.Hist(FP_df.GDPperUnitEnery )\n",
    "thinkplot.Hist(hist6) \n",
    "thinkplot.Show(xlabel=\"CN Gas Price from 1990-2014\", ylabel='frequency')\n",
    "\n",
    "\n"
   ]
  },
  {
   "cell_type": "code",
   "execution_count": 438,
   "metadata": {},
   "outputs": [
    {
     "data": {
      "image/png": "[encoded data removed]",
      "text/plain": [
       "<Figure size 432x288 with 1 Axes>"
      ]
     },
     "metadata": {
      "needs_background": "light"
     },
     "output_type": "display_data"
    },
    {
     "data": {
      "text/plain": [
       "<Figure size 720x504 with 0 Axes>"
      ]
     },
     "metadata": {},
     "output_type": "display_data"
    },
    {
     "data": {
      "image/png": "[encoded data removed]",
      "text/plain": [
       "<Figure size 432x288 with 1 Axes>"
      ]
     },
     "metadata": {
      "needs_background": "light"
     },
     "output_type": "display_data"
    },
    {
     "data": {
      "text/plain": [
       "<Figure size 720x504 with 0 Axes>"
      ]
     },
     "metadata": {},
     "output_type": "display_data"
    },
    {
     "data": {
      "image/png": "[encoded data removed]",
      "text/plain": [
       "<Figure size 432x288 with 1 Axes>"
      ]
     },
     "metadata": {
      "needs_background": "light"
     },
     "output_type": "display_data"
    },
    {
     "data": {
      "text/plain": [
       "<Figure size 720x504 with 0 Axes>"
      ]
     },
     "metadata": {},
     "output_type": "display_data"
    },
    {
     "data": {
      "image/png": "[encoded data removed]",
      "text/plain": [
       "<Figure size 432x288 with 1 Axes>"
      ]
     },
     "metadata": {
      "needs_background": "light"
     },
     "output_type": "display_data"
    },
    {
     "data": {
      "text/plain": [
       "<Figure size 720x504 with 0 Axes>"
      ]
     },
     "metadata": {},
     "output_type": "display_data"
    },
    {
     "data": {
      "image/png": "[encoded data removed]",
      "text/plain": [
       "<Figure size 432x288 with 1 Axes>"
      ]
     },
     "metadata": {
      "needs_background": "light"
     },
     "output_type": "display_data"
    },
    {
     "data": {
      "text/plain": [
       "<Figure size 720x504 with 0 Axes>"
      ]
     },
     "metadata": {},
     "output_type": "display_data"
    },
    {
     "data": {
      "image/png": "[encoded data removed]",
      "text/plain": [
       "<Figure size 432x288 with 1 Axes>"
      ]
     },
     "metadata": {
      "needs_background": "light"
     },
     "output_type": "display_data"
    },
    {
     "data": {
      "text/plain": [
       "<Figure size 720x504 with 0 Axes>"
      ]
     },
     "metadata": {},
     "output_type": "display_data"
    },
    {
     "data": {
      "image/png": "[encoded data removed]",
      "text/plain": [
       "<Figure size 432x288 with 1 Axes>"
      ]
     },
     "metadata": {
      "needs_background": "light"
     },
     "output_type": "display_data"
    },
    {
     "data": {
      "text/plain": [
       "<Figure size 720x504 with 0 Axes>"
      ]
     },
     "metadata": {},
     "output_type": "display_data"
    },
    {
     "data": {
      "image/png": "[encoded data removed]",
      "text/plain": [
       "<Figure size 432x288 with 1 Axes>"
      ]
     },
     "metadata": {
      "needs_background": "light"
     },
     "output_type": "display_data"
    },
    {
     "data": {
      "text/plain": [
       "<Figure size 720x504 with 0 Axes>"
      ]
     },
     "metadata": {},
     "output_type": "display_data"
    }
   ],
   "source": [
    "#Boxplot IQR will be a better representation for the time series \n",
    "\n",
    "#Percentage Renewable Consumption in NA\n",
    "\n",
    "boxplot1 = plt.boxplot(FP_df.renewConsumptionPercent)\n",
    "fig = plt.figure(figsize =(10, 7))\n",
    "plt.show()\n",
    "\n",
    "\n",
    "#kWhper_capita\n",
    "boxplot2 = plt.boxplot(FP_df.kWhper_capita )\n",
    "fig = plt.figure(figsize =(10, 7))\n",
    "plt.show()\n",
    "\n",
    "FP_df['mod_kwHpercapita'] = FP_df['kWhper_capita']/100\n",
    "\n",
    "#modify kWhper_capita\n",
    "boxplot2 = plt.boxplot(FP_df.mod_kwHpercapita)\n",
    "fig = plt.figure(figsize =(10, 7))\n",
    "plt.show()\n",
    "\n",
    "#kWhper_capita\n",
    "boxplot2 = plt.boxplot(FP_df.kWhper_capita )\n",
    "fig = plt.figure(figsize =(10, 7))\n",
    "plt.show()\n",
    "\n",
    "#%_fossilConsumption\n",
    "boxplot3 = plt.boxplot(FP_df.fossilConsumptionPercent)\n",
    "fig = plt.figure(figsize =(10, 7))\n",
    "plt.show()\n",
    "\n",
    "\n",
    "#US Gas Price\n",
    "boxplot4 = plt.boxplot(FP_df.US_NaturalGasPrice)\n",
    "fig = plt.figure(figsize =(10, 7))\n",
    "plt.show()\n",
    "\n",
    "#CN_NaturalGasPrice\n",
    "boxplot5 = plt.boxplot(FP_df.CN_NaturalGasPrice)\n",
    "fig = plt.figure(figsize =(10, 7))\n",
    "plt.show()\n",
    "\n",
    "\n",
    "#GDPperUnitEnery \n",
    "boxplot6 = plt.boxplot(FP_df.GDPperUnitEnery)\n",
    "fig = plt.figure(figsize =(10, 7))\n",
    "plt.show()\n",
    "\n",
    "\n",
    "\n",
    "\n",
    "\n",
    "\n",
    "\n"
   ]
  },
  {
   "cell_type": "code",
   "execution_count": 306,
   "metadata": {},
   "outputs": [
    {
     "data": {
      "text/plain": [
       "Index(['Country_Code', 'Year', 'renewConsumptionPercent', 'kWhper_capita',\n",
       "       'fossilConsumptionPercent', 'GDPperUnitEnery', 'CN_NaturalGasPrice',\n",
       "       'US_NaturalGasPrice', 'US_NGCons_millCubicFeet', 'mod_kwHpercapita'],\n",
       "      dtype='object')"
      ]
     },
     "execution_count": 306,
     "metadata": {},
     "output_type": "execute_result"
    }
   ],
   "source": [
    "FP_df['mod_kwHpercapita'] = FP_df['kWhper_capita']/100\n",
    "FP_df.columns"
   ]
  },
  {
   "cell_type": "code",
   "execution_count": 307,
   "metadata": {
    "scrolled": true
   },
   "outputs": [
    {
     "data": {
      "image/png": "[encoded data removed]",
      "text/plain": [
       "<Figure size 432x288 with 1 Axes>"
      ]
     },
     "metadata": {
      "needs_background": "light"
     },
     "output_type": "display_data"
    }
   ],
   "source": [
    "'''PDF Two scenerios for Renew Energy: Comparing renew energy consumption NAC vs AES\n",
    "Renew_EAS = Renew[Renew[\"Country_Code\"] == 'EAS']\n",
    "Renew_NAC = Renew[Renew[\"Country_Code\"] == 'NAC']'''\n",
    "hist_EAS = thinkstats2.Hist(Renew_EAS['renewConsumptionPercent'])\n",
    "hist_NAC= thinkstats2.Hist(Renew_NAC['renewConsumptionPercent'])\n",
    "\n",
    "width = 0.45\n",
    "thinkplot.PrePlot(2)\n",
    "thinkplot.Hist(hist_NAC, align='right', width=width,color='red')\n",
    "thinkplot.Hist(hist_EAS, align='left', width=width)\n",
    "thinkplot.Config(xlabel='Global Renew Energy Consumption (%)', ylabel='Percentage Count')\n"
   ]
  },
  {
   "cell_type": "code",
   "execution_count": 308,
   "metadata": {},
   "outputs": [
    {
     "name": "stdout",
     "output_type": "stream",
     "text": [
      "Renew Energy Consumption in EAS: 19.239458921111442 21.53447202667041 4.640524973176031\n",
      "Renew Energy Consumption in NAC: 7.725317287850383 2.077104484221144 1.4412163211055944\n"
     ]
    }
   ],
   "source": [
    "'''PDF Analysis Continue '''\n",
    "mean1 = Renew_EAS.renewConsumptionPercent.mean()\n",
    "var1 = Renew_EAS.renewConsumptionPercent.var()\n",
    "std1 = Renew_EAS.renewConsumptionPercent.std()\n",
    "\n",
    "mean2 = Renew_NAC.renewConsumptionPercent.mean()\n",
    "var2 = Renew_NAC.renewConsumptionPercent.var()\n",
    "std2 = Renew_NAC.renewConsumptionPercent.std()\n",
    "\n",
    "print('Renew Energy Consumption in EAS:', mean1,var1,std1)\n",
    "print('Renew Energy Consumption in NAC:', mean2,var2,std2)"
   ]
  },
  {
   "cell_type": "code",
   "execution_count": 309,
   "metadata": {},
   "outputs": [
    {
     "name": "stdout",
     "output_type": "stream",
     "text": [
      "Country_Code                        object\n",
      "Year                        datetime64[ns]\n",
      "renewConsumptionPercent            float64\n",
      "kWhper_capita                      float64\n",
      "fossilConsumptionPercent           float64\n",
      "GDPperUnitEnery                    float64\n",
      "CN_NaturalGasPrice                 float64\n",
      "US_NaturalGasPrice                 float64\n",
      "US_NGCons_millCubicFeet            float64\n",
      "mod_kwHpercapita                   float64\n",
      "dtype: object\n"
     ]
    },
    {
     "data": {
      "text/plain": [
       "30   1990-01-01\n",
       "31   1991-01-01\n",
       "32   1992-01-01\n",
       "33   1993-01-01\n",
       "34   1994-01-01\n",
       "35   1995-01-01\n",
       "36   1996-01-01\n",
       "37   1997-01-01\n",
       "38   1998-01-01\n",
       "39   1999-01-01\n",
       "40   2000-01-01\n",
       "41   2001-01-01\n",
       "42   2002-01-01\n",
       "43   2003-01-01\n",
       "44   2004-01-01\n",
       "45   2005-01-01\n",
       "46   2006-01-01\n",
       "47   2007-01-01\n",
       "48   2008-01-01\n",
       "49   2009-01-01\n",
       "50   2010-01-01\n",
       "51   2011-01-01\n",
       "52   2012-01-01\n",
       "53   2013-01-01\n",
       "54   2014-01-01\n",
       "Name: Year, dtype: datetime64[ns]"
      ]
     },
     "execution_count": 309,
     "metadata": {},
     "output_type": "execute_result"
    }
   ],
   "source": [
    "#Time Series Analysis \n",
    "FP_df['Year']= pd.to_datetime(FP_df['Year'], format='%Y')\n",
    "print(FP_df.dtypes)\n",
    "FP_df['Year']\n"
   ]
  },
  {
   "cell_type": "code",
   "execution_count": 409,
   "metadata": {},
   "outputs": [
    {
     "data": {
      "image/png": "[encoded data removed]",
      "text/plain": [
       "<Figure size 432x288 with 1 Axes>"
      ]
     },
     "metadata": {
      "needs_background": "light"
     },
     "output_type": "display_data"
    }
   ],
   "source": [
    "#CDF NAC vs Rest of the World\n",
    "Renew_notNAC = Renew[Renew['Country_Code']!='NAC']\n",
    "renew_notNAC = thinkstats2.Cdf(Renew_notNAC.renewConsumptionPercent, label='Renew Consumption')\n",
    "renew_total = thinkstats2.Cdf(Renew.renewConsumptionPercent, label='Renew Consumption')\n",
    "renewConsumptionPercent_CDF = thinkstats2.Cdf(FP_df.renewConsumptionPercent, label='renewConsumptionPercent')\n",
    "thinkplot.Config(xlabel='Renew Enery Consumption by Percentage', ylabel='CDF', loc='upper left')\n",
    "thinkplot.PrePlot(3)\n",
    "thinkplot.Cdfs([renewConsumptionPercent_CDF,renew_notNAC ])\n",
    "thinkplot.Config(xlabel='Percentage of Consumptions', ylabel='CDF')\n"
   ]
  },
  {
   "cell_type": "code",
   "execution_count": 403,
   "metadata": {},
   "outputs": [
    {
     "data": {
      "text/plain": [
       "\"GDP_Unit_cdf = thinkstats2.Cdf(FP_df.GDPperUnitEnery, label='GDPperUnitEnery')\\nthinkplot.Cdf(cdf)\\nthinkplot.Config(xlabel='GDP per Unit Energy($)', ylabel='CDF', loc='upper left')\""
      ]
     },
     "execution_count": 403,
     "metadata": {},
     "output_type": "execute_result"
    },
    {
     "data": {
      "image/png": "[encoded data removed]",
      "text/plain": [
       "<Figure size 432x288 with 1 Axes>"
      ]
     },
     "metadata": {
      "needs_background": "light"
     },
     "output_type": "display_data"
    }
   ],
   "source": [
    "'''Multiple CDF'''\n",
    "renewConsumptionPercent_CDF = thinkstats2.Cdf(FP_df.renewConsumptionPercent, label='renewConsumptionPercent')\n",
    "fossilConsumptionPercent_CDF = thinkstats2.Cdf(FP_df.fossilConsumptionPercent , label='fossilConsumptionPercent ')\n",
    "US_NaturalGasPrice_CDF = thinkstats2.Cdf(FP_df.US_NaturalGasPrice, label='US_NaturalGasPrice_CDF')\n",
    "CN_NaturalGasPrice_CDF = thinkstats2.Cdf(FP_df.CN_NaturalGasPrice, label='CN_NaturalGasPrice_CDF')\n",
    "thinkplot.PrePlot(3)\n",
    "thinkplot.Cdfs([US_NaturalGasPrice_CDF,CN_NaturalGasPrice_CDF,renewConsumptionPercent_CDF])\n",
    "thinkplot.Config(xlabel='Percentage of Consumptions', ylabel='CDF')\n",
    "\n",
    "'''GDP_Unit_cdf = thinkstats2.Cdf(FP_df.GDPperUnitEnery, label='GDPperUnitEnery')\n",
    "thinkplot.Cdf(cdf)\n",
    "thinkplot.Config(xlabel='GDP per Unit Energy($)', ylabel='CDF', loc='upper left')'''\n",
    "\n"
   ]
  },
  {
   "cell_type": "code",
   "execution_count": 422,
   "metadata": {},
   "outputs": [
    {
     "data": {
      "image/png": "[encoded data removed]",
      "text/plain": [
       "<Figure size 432x288 with 1 Axes>"
      ]
     },
     "metadata": {
      "needs_background": "light"
     },
     "output_type": "display_data"
    }
   ],
   "source": [
    "'''Plotting Scatter Plot Two variables'''\n",
    "Renew_GDP_energy = thinkplot.Scatter(FP_df.renewConsumptionPercent ,FP_df.mod_kwHpercapita,label=\"Renew vs Kwh \",color='blue')\n",
    "thinkplot.Config(xlabel='Renew Consumption in Percent', ylabel='kWh per capita (in thousand)', loc='upper left')"
   ]
  },
  {
   "cell_type": "code",
   "execution_count": 334,
   "metadata": {},
   "outputs": [
    {
     "data": {
      "image/png": "[encoded data removed]",
      "text/plain": [
       "<Figure size 432x288 with 1 Axes>"
      ]
     },
     "metadata": {
      "needs_background": "light"
     },
     "output_type": "display_data"
    }
   ],
   "source": [
    "Renew_USpRice = thinkplot.Scatter(FP_df.renewConsumptionPercent ,FP_df.US_NaturalGasPrice,label=\"Renew vs Price\",color='red')\n",
    "thinkplot.Config(xlabel='Renew Consumption in Percent', ylabel='US Natural Gas Price', loc='upper left')"
   ]
  },
  {
   "cell_type": "code",
   "execution_count": 314,
   "metadata": {},
   "outputs": [],
   "source": [
    "'''Correlation & Covariance '''\n",
    "def Cov(xs, ys, meanx=None, meany=None):\n",
    "    xs = np.asarray(xs) #convert Python sequences to numPy arrays\n",
    "    ys = np.asarray(ys)\n",
    "\n",
    "    if meanx is None:\n",
    "        meanx = np.mean(xs)\n",
    "    if meany is None:\n",
    "        meany = np.mean(ys)\n",
    "\n",
    "    cov = np.dot(xs-meanx, ys-meany) / len(xs)\n",
    "    return cov\n",
    "\n",
    "def Corr(xs, ys):\n",
    "    \"\"\"Computes Corr(X, Y).\n",
    "\n",
    "    Args:\n",
    "        xs: sequence of values\n",
    "        ys: sequence of values\n",
    "\n",
    "    Returns:\n",
    "        Corr(X, Y)\n",
    "    \"\"\"\n",
    "    xs = np.asarray(xs)\n",
    "    ys = np.asarray(ys)\n",
    "\n",
    "    meanx, varx = MeanVar(xs)\n",
    "    meany, vary = MeanVar(ys)\n",
    "\n",
    "    corr = Cov(xs, ys, meanx, meany) / math.sqrt(varx * vary)\n",
    "\n",
    "    return corr\n",
    "\n",
    "def MeanVar(xs, ddof=0):\n",
    "    \"\"\"Computes mean and variance.\n",
    "\n",
    "    Based on http://stackoverflow.com/questions/19391149/\n",
    "    numpy-mean-and-variance-from-single-function\n",
    "\n",
    "    xs: sequence of values\n",
    "    ddof: delta degrees of freedom\n",
    "    \n",
    "    returns: pair of float, mean and var\n",
    "    \"\"\"\n",
    "    xs = np.asarray(xs)\n",
    "    mean = xs.mean()\n",
    "    s2 = Var(xs, mean, ddof)\n",
    "    return mean, s2\n",
    "\n",
    "def Var(xs, mu=None, ddof=0):\n",
    "    \"\"\"Computes variance.\n",
    "\n",
    "    xs: sequence of values\n",
    "    mu: option known mean\n",
    "    ddof: delta degrees of freedom\n",
    "\n",
    "    returns: float\n",
    "    \"\"\"\n",
    "    xs = np.asarray(xs)\n",
    "\n",
    "    if mu is None:\n",
    "        mu = xs.mean()\n",
    "\n",
    "    ds = xs - mu\n",
    "    return np.dot(ds, ds) / (len(xs) - ddof)\n",
    "\n",
    "def SpearmanCorr(xs, ys):\n",
    "    xranks = pd.Series(xs).rank()\n",
    "    yranks = pd.Series(ys).rank()\n",
    "    return Corr(xranks, yranks)"
   ]
  },
  {
   "cell_type": "code",
   "execution_count": 419,
   "metadata": {},
   "outputs": [
    {
     "name": "stdout",
     "output_type": "stream",
     "text": [
      "2.110400646067445 3.0043867512251525\n"
     ]
    }
   ],
   "source": [
    "import math\n",
    "#Covariance\n",
    "cov1 = Cov(FP_df.renewConsumptionPercent,FP_df.mod_kwHpercapita)\n",
    "cov2 =Cov(FP_df.renewConsumptionPercent,FP_df.US_NaturalGasPrice) \n",
    "print(cov1, cov2)"
   ]
  },
  {
   "cell_type": "code",
   "execution_count": 420,
   "metadata": {},
   "outputs": [
    {
     "name": "stdout",
     "output_type": "stream",
     "text": [
      "[[1.         0.93454051]\n",
      " [0.93454051 1.        ]]\n",
      "[[1.         0.73668381]\n",
      " [0.73668381 1.        ]]\n"
     ]
    }
   ],
   "source": [
    "#Spearman Correlation\n",
    "spear1 =SpearmanCorr(FP_df.renewConsumptionPercent,FP_df.mod_kwHpercapita)\n",
    "spear2 =SpearmanCorr(FP_df.renewConsumptionPercent, FP_df.US_NaturalGasPrice)\n",
    "print(corr1)\n",
    "print(corr2)"
   ]
  },
  {
   "cell_type": "code",
   "execution_count": 421,
   "metadata": {},
   "outputs": [
    {
     "name": "stdout",
     "output_type": "stream",
     "text": [
      "0.31736145741891786\n",
      "0.750742021287737\n"
     ]
    }
   ],
   "source": [
    "#Pearsan Corr with log \n",
    "Pearson1 = Corr(FP_df.renewConsumptionPercent,np.log(FP_df.mod_kwHpercapita))\n",
    "Pearson2 = Corr(FP_df.renewConsumptionPercent, np.log(FP_df.US_NaturalGasPrice))\n",
    "print(Pearson1)\n",
    "print(Pearson2)"
   ]
  },
  {
   "cell_type": "code",
   "execution_count": 344,
   "metadata": {},
   "outputs": [],
   "source": [
    "#Correlation Function  \n",
    "class CorrelationPermute(thinkstats2.HypothesisTest):\n",
    "\n",
    "    def TestStatistic(self, data):\n",
    "        xs, ys = data\n",
    "        test_stat = abs(thinkstats2.Corr(xs, ys))\n",
    "        return test_stat\n",
    "\n",
    "    def RunModel(self):\n",
    "        xs, ys = self.data\n",
    "        xs = np.random.permutation(xs)\n",
    "        return xs, ys"
   ]
  },
  {
   "cell_type": "code",
   "execution_count": 417,
   "metadata": {},
   "outputs": [
    {
     "data": {
      "text/plain": [
       "0.139"
      ]
     },
     "execution_count": 417,
     "metadata": {},
     "output_type": "execute_result"
    }
   ],
   "source": [
    "'''Hypothesis Test : Is there correlation between renew consumption and GDPperUnitEnery '''\n",
    "data1 = FP_df.renewConsumptionPercent,FP_df.mod_kwHpercapita\n",
    "data1\n",
    "ht = CorrelationPermute(data1)\n",
    "pvalue1 = ht.PValue()\n",
    "pvalue1\n",
    "\n"
   ]
  },
  {
   "cell_type": "code",
   "execution_count": 418,
   "metadata": {},
   "outputs": [
    {
     "data": {
      "text/plain": [
       "0.0"
      ]
     },
     "execution_count": 418,
     "metadata": {},
     "output_type": "execute_result"
    }
   ],
   "source": [
    "data2 = FP_df.renewConsumptionPercent, FP_df.US_NaturalGasPrice\n",
    "ht = CorrelationPermute(data2)\n",
    "pvalue2 = ht.PValue()\n",
    "pvalue2\n",
    "\n"
   ]
  },
  {
   "cell_type": "code",
   "execution_count": 324,
   "metadata": {},
   "outputs": [],
   "source": [
    "'''Linear Least Square '''\n",
    "from thinkstats2 import Mean, MeanVar, Var, Std, Cov\n",
    "\n",
    "def LeastSquares(xs, ys):\n",
    "    meanx, varx = MeanVar(xs)\n",
    "    meany = Mean(ys)\n",
    "\n",
    "    slope = Cov(xs, ys, meanx, meany) / varx\n",
    "    inter = meany - slope * meanx\n",
    "\n",
    "    return inter, slope\n",
    "\n",
    "def FitLine(xs, inter, slope):\n",
    "    fit_xs = np.sort(xs)\n",
    "    fit_ys = inter + slope * fit_xs\n",
    "    return fit_xs, fit_ys\n",
    "\n",
    "def Residuals(xs, ys, inter, slope):\n",
    "    xs = np.asarray(xs)\n",
    "    ys = np.asarray(ys)\n",
    "    res = ys - (inter + slope * xs)\n",
    "    return res"
   ]
  },
  {
   "cell_type": "code",
   "execution_count": 416,
   "metadata": {},
   "outputs": [
    {
     "data": {
      "text/plain": [
       "(124.57214475694055, 1.1549767948429432)"
      ]
     },
     "execution_count": 416,
     "metadata": {},
     "output_type": "execute_result"
    }
   ],
   "source": [
    "# Linear Least Square\n",
    "inter, slope = LeastSquares(FP_df.renewConsumptionPercent, FP_df.mod_kwHpercapita)\n",
    "inter, slope"
   ]
  },
  {
   "cell_type": "code",
   "execution_count": 425,
   "metadata": {},
   "outputs": [],
   "source": [
    "#Good Fit \n",
    "fit_xs, fit_ys = FitLine(FP_df.renewConsumptionPercent, inter, slope)"
   ]
  },
  {
   "cell_type": "code",
   "execution_count": 426,
   "metadata": {},
   "outputs": [
    {
     "data": {
      "image/png": "[encoded data removed]",
      "text/plain": [
       "<Figure size 432x288 with 1 Axes>"
      ]
     },
     "metadata": {
      "needs_background": "light"
     },
     "output_type": "display_data"
    }
   ],
   "source": [
    "#ScatterPlot with Good Fit model \n",
    "thinkplot.Scatter(FP_df.renewConsumptionPercent, FP_df.mod_kwHpercapita)\n",
    "thinkplot.Plot(fit_xs, fit_ys, color='white', linewidth=3)\n",
    "thinkplot.Plot(fit_xs, fit_ys, color='red', linewidth=2)\n",
    "thinkplot.Config(xlabel=\"Renew Consumption\",\n",
    "                 ylabel='kWh Per Capita',\n",
    "                 legend=False)"
   ]
  },
  {
   "cell_type": "code",
   "execution_count": 353,
   "metadata": {},
   "outputs": [
    {
     "data": {
      "text/plain": [
       "'Mutilple Regession Analysis Chpt 10 '"
      ]
     },
     "execution_count": 353,
     "metadata": {},
     "output_type": "execute_result"
    }
   ],
   "source": [
    "'''Mutilple Regession Analysis Chpt 10 '''"
   ]
  },
  {
   "cell_type": "code",
   "execution_count": 354,
   "metadata": {},
   "outputs": [],
   "source": [
    "import patsy\n",
    "\n",
    "def GoMining(df):\n",
    "    \"\"\"Searches for variables that predict birth weight.\n",
    "\n",
    "    df: DataFrame of pregnancy records\n",
    "\n",
    "    returns: list of (rsquared, variable name) pairs\n",
    "    \"\"\"\n",
    "    variables = []\n",
    "    for name in df.columns:\n",
    "        try:\n",
    "            if df[name].var() < 1e-7:\n",
    "                continue\n",
    "\n",
    "            formula = ' FP_df.renewConsumptionPercent ~ FP_df.fossilConsumptionPercent + ' + name\n",
    "            \n",
    "            # The following seems to be required in some environments\n",
    "            # formula = formula.encode('ascii')\n",
    "\n",
    "            model = smf.ols(formula, data=df)\n",
    "            if model.nobs < len(df)/2:\n",
    "                continue\n",
    "\n",
    "            results = model.fit()\n",
    "        except (ValueError, TypeError):\n",
    "            continue\n",
    "\n",
    "        variables.append((results.rsquared, name))\n",
    "\n",
    "    return variables"
   ]
  },
  {
   "cell_type": "code",
   "execution_count": 355,
   "metadata": {},
   "outputs": [],
   "source": [
    "variables = GoMining(FP_df)"
   ]
  },
  {
   "cell_type": "code",
   "execution_count": 356,
   "metadata": {},
   "outputs": [],
   "source": [
    "import re\n",
    "def ReadVariables():\n",
    "    \"\"\"Reads Stata dictionary files for NSFG data.\n",
    "\n",
    "    returns: DataFrame that maps variables names to descriptions\n",
    "    \"\"\"\n",
    "    vars1 = FP_df\n",
    "\n",
    "    all_vars = vars1\n",
    "    return all_vars\n",
    "\n",
    "def MiningReport(variables, n=30):\n",
    "    \"\"\"Prints variables with the highest R^2.\n",
    "\n",
    "    t: list of (R^2, variable name) pairs\n",
    "    n: number of pairs to print\n",
    "    \"\"\"\n",
    "    all_vars = ReadVariables()\n",
    "\n",
    "    variables.sort(reverse=True)\n",
    "    for r2, name in variables[:n]:\n",
    "        key = re.sub('_r$', '', name)\n",
    "        try:\n",
    "            desc = all_vars.loc[key].desc\n",
    "            if isinstance(desc, pd.Series):\n",
    "                desc = desc[0]\n",
    "            print(name, r2, desc)\n",
    "        except (KeyError, IndexError):\n",
    "            print(name, r2)"
   ]
  },
  {
   "cell_type": "code",
   "execution_count": 357,
   "metadata": {},
   "outputs": [
    {
     "name": "stdout",
     "output_type": "stream",
     "text": [
      "renewConsumptionPercent 1.0\n",
      "GDPperUnitEnery 0.9759733388701332\n",
      "US_NaturalGasPrice 0.939760985854316\n",
      "mod_kwHpercapita 0.9256929488836952\n",
      "kWhper_capita 0.9256929488836949\n",
      "CN_NaturalGasPrice 0.9212857722371754\n",
      "US_NGCons_millCubicFeet 0.8619374570492688\n",
      "fossilConsumptionPercent 0.7918436445942184\n"
     ]
    }
   ],
   "source": [
    "MiningReport(variables)"
   ]
  },
  {
   "cell_type": "code",
   "execution_count": 361,
   "metadata": {},
   "outputs": [
    {
     "data": {
      "text/html": [
       "<table class=\"simpletable\">\n",
       "<caption>OLS Regression Results</caption>\n",
       "<tr>\n",
       "  <th>Dep. Variable:</th>    <td>renewConsumptionPercent</td> <th>  R-squared:         </th> <td>   0.976</td>\n",
       "</tr>\n",
       "<tr>\n",
       "  <th>Model:</th>                      <td>OLS</td>           <th>  Adj. R-squared:    </th> <td>   0.971</td>\n",
       "</tr>\n",
       "<tr>\n",
       "  <th>Method:</th>                <td>Least Squares</td>      <th>  F-statistic:       </th> <td>   204.8</td>\n",
       "</tr>\n",
       "<tr>\n",
       "  <th>Date:</th>                <td>Sat, 05 Jun 2021</td>     <th>  Prob (F-statistic):</th> <td>6.35e-16</td>\n",
       "</tr>\n",
       "<tr>\n",
       "  <th>Time:</th>                    <td>20:08:03</td>         <th>  Log-Likelihood:    </th> <td>  3.7024</td>\n",
       "</tr>\n",
       "<tr>\n",
       "  <th>No. Observations:</th>         <td>    25</td>          <th>  AIC:               </th> <td>   2.595</td>\n",
       "</tr>\n",
       "<tr>\n",
       "  <th>Df Residuals:</th>             <td>    20</td>          <th>  BIC:               </th> <td>   8.690</td>\n",
       "</tr>\n",
       "<tr>\n",
       "  <th>Df Model:</th>                 <td>     4</td>          <th>                     </th>     <td> </td>   \n",
       "</tr>\n",
       "<tr>\n",
       "  <th>Covariance Type:</th>         <td>nonrobust</td>        <th>                     </th>     <td> </td>   \n",
       "</tr>\n",
       "</table>\n",
       "<table class=\"simpletable\">\n",
       "<tr>\n",
       "              <td></td>                <th>coef</th>     <th>std err</th>      <th>t</th>      <th>P>|t|</th>  <th>[0.025</th>    <th>0.975]</th>  \n",
       "</tr>\n",
       "<tr>\n",
       "  <th>Intercept</th>                <td>   54.0419</td> <td>    8.014</td> <td>    6.744</td> <td> 0.000</td> <td>   37.325</td> <td>   70.759</td>\n",
       "</tr>\n",
       "<tr>\n",
       "  <th>GDPperUnitEnery</th>          <td>    0.9330</td> <td>    0.198</td> <td>    4.705</td> <td> 0.000</td> <td>    0.519</td> <td>    1.347</td>\n",
       "</tr>\n",
       "<tr>\n",
       "  <th>mod_kwHpercapita</th>         <td>    0.0054</td> <td>    0.017</td> <td>    0.312</td> <td> 0.758</td> <td>   -0.031</td> <td>    0.042</td>\n",
       "</tr>\n",
       "<tr>\n",
       "  <th>fossilConsumptionPercent</th> <td>   -0.6256</td> <td>    0.101</td> <td>   -6.166</td> <td> 0.000</td> <td>   -0.837</td> <td>   -0.414</td>\n",
       "</tr>\n",
       "<tr>\n",
       "  <th>US_NaturalGasPrice</th>       <td>    0.0074</td> <td>    0.038</td> <td>    0.195</td> <td> 0.848</td> <td>   -0.072</td> <td>    0.087</td>\n",
       "</tr>\n",
       "</table>\n",
       "<table class=\"simpletable\">\n",
       "<tr>\n",
       "  <th>Omnibus:</th>       <td> 1.369</td> <th>  Durbin-Watson:     </th> <td>   1.729</td>\n",
       "</tr>\n",
       "<tr>\n",
       "  <th>Prob(Omnibus):</th> <td> 0.504</td> <th>  Jarque-Bera (JB):  </th> <td>   0.329</td>\n",
       "</tr>\n",
       "<tr>\n",
       "  <th>Skew:</th>          <td>-0.014</td> <th>  Prob(JB):          </th> <td>   0.848</td>\n",
       "</tr>\n",
       "<tr>\n",
       "  <th>Kurtosis:</th>      <td> 3.561</td> <th>  Cond. No.          </th> <td>2.72e+04</td>\n",
       "</tr>\n",
       "</table><br/><br/>Notes:<br/>[1] Standard Errors assume that the covariance matrix of the errors is correctly specified.<br/>[2] The condition number is large, 2.72e+04. This might indicate that there are<br/>strong multicollinearity or other numerical problems."
      ],
      "text/plain": [
       "<class 'statsmodels.iolib.summary.Summary'>\n",
       "\"\"\"\n",
       "                               OLS Regression Results                              \n",
       "===================================================================================\n",
       "Dep. Variable:     renewConsumptionPercent   R-squared:                       0.976\n",
       "Model:                                 OLS   Adj. R-squared:                  0.971\n",
       "Method:                      Least Squares   F-statistic:                     204.8\n",
       "Date:                     Sat, 05 Jun 2021   Prob (F-statistic):           6.35e-16\n",
       "Time:                             20:08:03   Log-Likelihood:                 3.7024\n",
       "No. Observations:                       25   AIC:                             2.595\n",
       "Df Residuals:                           20   BIC:                             8.690\n",
       "Df Model:                                4                                         \n",
       "Covariance Type:                 nonrobust                                         \n",
       "============================================================================================\n",
       "                               coef    std err          t      P>|t|      [0.025      0.975]\n",
       "--------------------------------------------------------------------------------------------\n",
       "Intercept                   54.0419      8.014      6.744      0.000      37.325      70.759\n",
       "GDPperUnitEnery              0.9330      0.198      4.705      0.000       0.519       1.347\n",
       "mod_kwHpercapita             0.0054      0.017      0.312      0.758      -0.031       0.042\n",
       "fossilConsumptionPercent    -0.6256      0.101     -6.166      0.000      -0.837      -0.414\n",
       "US_NaturalGasPrice           0.0074      0.038      0.195      0.848      -0.072       0.087\n",
       "==============================================================================\n",
       "Omnibus:                        1.369   Durbin-Watson:                   1.729\n",
       "Prob(Omnibus):                  0.504   Jarque-Bera (JB):                0.329\n",
       "Skew:                          -0.014   Prob(JB):                        0.848\n",
       "Kurtosis:                       3.561   Cond. No.                     2.72e+04\n",
       "==============================================================================\n",
       "\n",
       "Notes:\n",
       "[1] Standard Errors assume that the covariance matrix of the errors is correctly specified.\n",
       "[2] The condition number is large, 2.72e+04. This might indicate that there are\n",
       "strong multicollinearity or other numerical problems.\n",
       "\"\"\""
      ]
     },
     "execution_count": 361,
     "metadata": {},
     "output_type": "execute_result"
    }
   ],
   "source": [
    "import patsy\n",
    "\n",
    "formula = ('renewConsumptionPercent ~ GDPperUnitEnery + mod_kwHpercapita + fossilConsumptionPercent+ US_NaturalGasPrice')\n",
    "results = smf.ols(formula, data=FP_df).fit()\n",
    "results.summary()"
   ]
  },
  {
   "cell_type": "code",
   "execution_count": 370,
   "metadata": {},
   "outputs": [
    {
     "data": {
      "image/png": "[encoded data removed]",
      "text/plain": [
       "<Figure size 432x288 with 1 Axes>"
      ]
     },
     "metadata": {
      "needs_background": "light"
     },
     "output_type": "display_data"
    }
   ],
   "source": [
    "'''Time Series Analysis'''\n",
    "thinkplot.Scatter(FP_df.Year, FP_df.US_NaturalGasPrice, s=15, label=\"US Price\")\n"
   ]
  },
  {
   "cell_type": "code",
   "execution_count": 429,
   "metadata": {},
   "outputs": [],
   "source": [
    "import patsy\n",
    "\n",
    "def RunLinearModel(FP_df):\n",
    "    \n",
    "    formula = ('renewConsumptionPercent ~ GDPperUnitEnery + mod_kwHpercapita + fossilConsumptionPercent+ US_NaturalGasPrice')\n",
    "    model = smf.ols(formula, data=FP_df)\n",
    "    results = smf.ols(formula, data=FP_df).fit()\n",
    "    return model, results\n",
    "\n",
    "def PlotFittedValues(model, results):\n",
    "    \"\"\"Plots original data and fitted values.\n",
    "\n",
    "    model: StatsModel model object\n",
    "    results: StatsModel results object\n",
    "    \"\"\"\n",
    "    years = model.exog[:,1]\n",
    "    values = model.endog\n",
    "    thinkplot.Scatter(FP_df.Year,FP_df.renewConsumptionPercent, s=15, label='NAC Renew Energy Consumption')\n",
    "    thinkplot.Plot(FP_df.Year, results.fittedvalues, label='model', color='#ff7f00')\n",
    "    thinkplot.Config(xlabel='NAC Renew Energy Consumption (%)', ylabel='NAC Renew Energy Consumptio')"
   ]
  },
  {
   "cell_type": "code",
   "execution_count": 430,
   "metadata": {},
   "outputs": [
    {
     "data": {
      "image/png": "[encoded data removed]",
      "text/plain": [
       "<Figure size 432x288 with 1 Axes>"
      ]
     },
     "metadata": {
      "needs_background": "light"
     },
     "output_type": "display_data"
    }
   ],
   "source": [
    "import patsy\n",
    "model1, results1 = RunLinearModel(FP_df)\n",
    "PlotFittedValues(model1,results1)"
   ]
  },
  {
   "cell_type": "code",
   "execution_count": 431,
   "metadata": {},
   "outputs": [],
   "source": [
    "'''Experimenting with Moving Weight'''\n",
    "\n",
    "def PlotEWMA(FP_df):\n",
    "    thinkplot.Scatter(FP_df.Year,FP_df.renewConsumptionPercent, alpha=0.2, label=\"North America Renewable Energy\")\n",
    "    roll_mean = FP_df.US_NaturalGasPrice.ewm(30).mean()\n",
    "    thinkplot.Plot(FP_df.Year,roll_mean, label='EWMA', color='#ff7f00')\n",
    "    plt.xticks(rotation=30)\n",
    "    thinkplot.Config(xlabel = 'Year', ylabel='NAC Renew Energy Consumption (%)')"
   ]
  },
  {
   "cell_type": "code",
   "execution_count": 432,
   "metadata": {},
   "outputs": [
    {
     "data": {
      "image/png": "[encoded data removed]",
      "text/plain": [
       "<Figure size 432x288 with 1 Axes>"
      ]
     },
     "metadata": {
      "needs_background": "light"
     },
     "output_type": "display_data"
    }
   ],
   "source": [
    "#Expotnentially-weighted moving average \n",
    "PlotEWMA(FP_df)"
   ]
  },
  {
   "cell_type": "code",
   "execution_count": null,
   "metadata": {},
   "outputs": [],
   "source": []
  }
 ],
 "metadata": {
  "kernelspec": {
   "display_name": "Python 3",
   "language": "python",
   "name": "python3"
  },
  "language_info": {
   "codemirror_mode": {
    "name": "ipython",
    "version": 3
   },
   "file_extension": ".py",
   "mimetype": "text/x-python",
   "name": "python",
   "nbconvert_exporter": "python",
   "pygments_lexer": "ipython3",
   "version": "3.8.5"
  }
 },
 "nbformat": 4,
 "nbformat_minor": 4
}
